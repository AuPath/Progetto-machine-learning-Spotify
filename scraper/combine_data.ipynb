{
 "metadata": {
  "language_info": {
   "codemirror_mode": {
    "name": "ipython",
    "version": 3
   },
   "file_extension": ".py",
   "mimetype": "text/x-python",
   "name": "python",
   "nbconvert_exporter": "python",
   "pygments_lexer": "ipython3",
   "version": "3.8.6-final"
  },
  "orig_nbformat": 2,
  "kernelspec": {
   "name": "python38664bitf44eb56379a6496ca9ad4900b2120220",
   "display_name": "Python 3.8.6 64-bit",
   "language": "python"
  }
 },
 "nbformat": 4,
 "nbformat_minor": 2,
 "cells": [
  {
   "cell_type": "code",
   "execution_count": 9,
   "metadata": {},
   "outputs": [
    {
     "output_type": "execute_result",
     "data": {
      "text/plain": [
       "['disco-8_platino$au.csv',\n",
       " 'disco-4_platino$dk.csv',\n",
       " 'disco-oro$usa.csv',\n",
       " 'disco-3_platino$au.csv',\n",
       " 'disco-4_platino$uk.csv',\n",
       " 'disco-6_platino$can.csv',\n",
       " 'disco-4_platino$au.csv',\n",
       " 'disco-9_platino$can.csv',\n",
       " 'disco-1_platino$can.csv',\n",
       " 'disco-4_platino$usa.csv',\n",
       " 'disco-7_platino$can.csv',\n",
       " 'disco-oro$can.csv',\n",
       " 'disco-6_platino$usa.csv',\n",
       " 'disco-oro$it.csv',\n",
       " 'disco-oro$dk.csv',\n",
       " 'disco-3_platino$dk.csv',\n",
       " 'disco-5_platino$it.csv',\n",
       " 'disco-1_platino$dk.csv',\n",
       " 'disco-8_platino$uk.csv',\n",
       " 'disco-8_platino$can.csv',\n",
       " 'disco-1_platino$uk.csv',\n",
       " 'disco-7_platino$it.csv',\n",
       " 'disco-2_platino$au.csv',\n",
       " 'disco-7_platino$usa.csv',\n",
       " 'disco-3_platino$it.csv',\n",
       " 'disco-6_platino$dk.csv',\n",
       " 'disco-2_platino$it.csv',\n",
       " 'disco-9_platino$usa.csv',\n",
       " 'disco-1_platino$it.csv',\n",
       " 'disco-5_platino$uk.csv',\n",
       " 'disco-oro$au.csv',\n",
       " 'disco-8_platino$it.csv',\n",
       " 'disco-2_platino$uk.csv',\n",
       " 'disco-5_platino$can.csv',\n",
       " 'disco-3_platino$usa.csv',\n",
       " 'disco-2_platino$can.csv',\n",
       " 'disco-3_platino$uk.csv',\n",
       " 'disco-8_platino$usa.csv',\n",
       " 'disco-9_platino$it.csv',\n",
       " 'disco-5_platino$usa.csv',\n",
       " 'disco-6_platino$au.csv',\n",
       " 'disco-9_platino$au.csv',\n",
       " 'disco-7_platino$au.csv',\n",
       " 'disco-5_platino$au.csv',\n",
       " 'disco-oro$uk.csv',\n",
       " 'disco-3_platino$can.csv',\n",
       " 'disco-4_platino$it.csv',\n",
       " 'disco-2_platino$usa.csv',\n",
       " 'disco-2_platino$dk.csv',\n",
       " 'disco-6_platino$it.csv',\n",
       " 'disco-1_platino$usa.csv',\n",
       " 'disco-6_platino$uk.csv',\n",
       " 'disco-4_platino$can.csv',\n",
       " 'disco-5_platino$dk.csv',\n",
       " 'disco-9_platino$uk.csv',\n",
       " 'disco-1_platino$au.csv']"
      ]
     },
     "metadata": {},
     "execution_count": 9
    }
   ],
   "source": [
    "from os import listdir\n",
    "from os.path import isfile, join\n",
    "\n",
    "path = '../data/scraped/'\n",
    "onlyfiles = [f for f in listdir(path) if isfile(join(path, f))]\n",
    "onlyfiles"
   ]
  },
  {
   "cell_type": "code",
   "execution_count": 57,
   "metadata": {},
   "outputs": [
    {
     "output_type": "execute_result",
     "data": {
      "text/plain": [
       "                    title         artists  \\\n",
       "0             Sex on Fire   Kings of Leon   \n",
       "1              Wonderwall           Oasis   \n",
       "2       Someone You Loved   Lewis Capaldi   \n",
       "3              Dark Horse      Katy Perry   \n",
       "4              Sicko Mode    Travis Scott   \n",
       "..                    ...             ...   \n",
       "595    Turn off the Light   Nelly Furtado   \n",
       "605   Waiting for Tonight  Jennifer Lopez   \n",
       "613           Violet Hill        Coldplay   \n",
       "633  Whataya Want From Me    Adam Lambert   \n",
       "645          You Found Me        The Fray   \n",
       "\n",
       "                                                  date duration  \\\n",
       "0                                     5 settembre 2008     3:23   \n",
       "1                                      30 ottobre 1995     4:19   \n",
       "2                                      8 novembre 2018     3:02   \n",
       "3                                     17 dicembre 2013     3:35   \n",
       "4                                       21 agosto 2018     5:12   \n",
       "..                                                 ...      ...   \n",
       "595                  14 agosto 2001  25 settembre 2001     4:36   \n",
       "605                                   16 novembre 1999     4:06   \n",
       "613                                      9 maggio 2008     3:49   \n",
       "633   20 novembre 2009 (USA)  19 gennaio 2010 (Italia)     3:46   \n",
       "645  21 novembre 2008    23 novembre   24 novembre ...     4:04   \n",
       "\n",
       "                                                 genre      award nation  \n",
       "0                                     Rock alternativo  8_platino     au  \n",
       "1                            Britpop,,Rock alternativo  8_platino     au  \n",
       "2                                              Ballata  8_platino     au  \n",
       "3                                          Trap,,Grime  8_platino     au  \n",
       "4                                              Hip hop  8_platino     au  \n",
       "..                                                 ...        ...    ...  \n",
       "595                                           Trip hop  1_platino     au  \n",
       "605  Dance pop,,Pop latino,,Electronic dance music,...  1_platino     au  \n",
       "613                                   Rock alternativo  1_platino     au  \n",
       "633                                Pop rock,,Synth pop  1_platino     au  \n",
       "645                                   Rock alternativo  1_platino     au  \n",
       "\n",
       "[5719 rows x 7 columns]"
      ],
      "text/html": "<div>\n<style scoped>\n    .dataframe tbody tr th:only-of-type {\n        vertical-align: middle;\n    }\n\n    .dataframe tbody tr th {\n        vertical-align: top;\n    }\n\n    .dataframe thead th {\n        text-align: right;\n    }\n</style>\n<table border=\"1\" class=\"dataframe\">\n  <thead>\n    <tr style=\"text-align: right;\">\n      <th></th>\n      <th>title</th>\n      <th>artists</th>\n      <th>date</th>\n      <th>duration</th>\n      <th>genre</th>\n      <th>award</th>\n      <th>nation</th>\n    </tr>\n  </thead>\n  <tbody>\n    <tr>\n      <th>0</th>\n      <td>Sex on Fire</td>\n      <td>Kings of Leon</td>\n      <td>5 settembre 2008</td>\n      <td>3:23</td>\n      <td>Rock alternativo</td>\n      <td>8_platino</td>\n      <td>au</td>\n    </tr>\n    <tr>\n      <th>1</th>\n      <td>Wonderwall</td>\n      <td>Oasis</td>\n      <td>30 ottobre 1995</td>\n      <td>4:19</td>\n      <td>Britpop,,Rock alternativo</td>\n      <td>8_platino</td>\n      <td>au</td>\n    </tr>\n    <tr>\n      <th>2</th>\n      <td>Someone You Loved</td>\n      <td>Lewis Capaldi</td>\n      <td>8 novembre 2018</td>\n      <td>3:02</td>\n      <td>Ballata</td>\n      <td>8_platino</td>\n      <td>au</td>\n    </tr>\n    <tr>\n      <th>3</th>\n      <td>Dark Horse</td>\n      <td>Katy Perry</td>\n      <td>17 dicembre 2013</td>\n      <td>3:35</td>\n      <td>Trap,,Grime</td>\n      <td>8_platino</td>\n      <td>au</td>\n    </tr>\n    <tr>\n      <th>4</th>\n      <td>Sicko Mode</td>\n      <td>Travis Scott</td>\n      <td>21 agosto 2018</td>\n      <td>5:12</td>\n      <td>Hip hop</td>\n      <td>8_platino</td>\n      <td>au</td>\n    </tr>\n    <tr>\n      <th>...</th>\n      <td>...</td>\n      <td>...</td>\n      <td>...</td>\n      <td>...</td>\n      <td>...</td>\n      <td>...</td>\n      <td>...</td>\n    </tr>\n    <tr>\n      <th>595</th>\n      <td>Turn off the Light</td>\n      <td>Nelly Furtado</td>\n      <td>14 agosto 2001  25 settembre 2001</td>\n      <td>4:36</td>\n      <td>Trip hop</td>\n      <td>1_platino</td>\n      <td>au</td>\n    </tr>\n    <tr>\n      <th>605</th>\n      <td>Waiting for Tonight</td>\n      <td>Jennifer Lopez</td>\n      <td>16 novembre 1999</td>\n      <td>4:06</td>\n      <td>Dance pop,,Pop latino,,Electronic dance music,...</td>\n      <td>1_platino</td>\n      <td>au</td>\n    </tr>\n    <tr>\n      <th>613</th>\n      <td>Violet Hill</td>\n      <td>Coldplay</td>\n      <td>9 maggio 2008</td>\n      <td>3:49</td>\n      <td>Rock alternativo</td>\n      <td>1_platino</td>\n      <td>au</td>\n    </tr>\n    <tr>\n      <th>633</th>\n      <td>Whataya Want From Me</td>\n      <td>Adam Lambert</td>\n      <td>20 novembre 2009 (USA)  19 gennaio 2010 (Italia)</td>\n      <td>3:46</td>\n      <td>Pop rock,,Synth pop</td>\n      <td>1_platino</td>\n      <td>au</td>\n    </tr>\n    <tr>\n      <th>645</th>\n      <td>You Found Me</td>\n      <td>The Fray</td>\n      <td>21 novembre 2008    23 novembre   24 novembre ...</td>\n      <td>4:04</td>\n      <td>Rock alternativo</td>\n      <td>1_platino</td>\n      <td>au</td>\n    </tr>\n  </tbody>\n</table>\n<p>5719 rows × 7 columns</p>\n</div>"
     },
     "metadata": {},
     "execution_count": 57
    }
   ],
   "source": [
    "import pandas as pd\n",
    "dfs = [pd.read_csv(path + f) for f in onlyfiles]\n",
    "\n",
    "df_out = pd.DataFrame(data=[], columns=dfs[0].columns)\n",
    "for df in dfs:\n",
    "    df_out = df_out.append(df)\n",
    "df_out = df_out.drop_duplicates(subset=['title', 'artists', 'duration'])\n",
    "df_out"
   ]
  },
  {
   "cell_type": "code",
   "execution_count": 60,
   "metadata": {},
   "outputs": [],
   "source": [
    "import csv\n",
    "\n",
    "path = '../data/awards.csv'\n",
    "df_out.to_csv(path, index=False, quoting=csv.QUOTE_ALL, quotechar='\"')"
   ]
  }
 ]
}