{
 "cells": [
  {
   "cell_type": "code",
   "execution_count": 1,
   "metadata": {
    "collapsed": true
   },
   "outputs": [
    {
     "output_type": "execute_result",
     "data": {
      "text/plain": [
       "        valence  acousticness  danceability  duration_ms  energy  explicit  \\\n",
       "1        0.3870      0.494000         0.734       165214   0.472         1   \n",
       "2        0.3060      0.000244         0.885       148656   0.520         1   \n",
       "4        0.2360      0.776000         0.561       334680   0.960         1   \n",
       "6        0.4620      0.698000         0.735       173202   0.235         0   \n",
       "7        0.0379      0.000803         0.680       255787   0.712         1   \n",
       "...         ...           ...           ...          ...     ...       ...   \n",
       "151755   0.7930      0.011300         0.648       228240   0.908         0   \n",
       "151756   0.6470      0.157000         0.779       300160   0.572         1   \n",
       "151757   0.5130      0.293000         0.642       229213   0.722         0   \n",
       "151758   0.5920      0.177000         0.423       297760   0.797         0   \n",
       "151759   0.6220      0.103000         0.411       172646   0.962         1   \n",
       "\n",
       "        instrumentalness  key  liveness  loudness  mode  popularity  \\\n",
       "1               0.002930    1     0.102    -8.192     0          64   \n",
       "2               0.000001    1     0.454    -8.353     1          60   \n",
       "4               0.000000    1     0.690    -5.781     1          44   \n",
       "6               0.006040    3     0.107   -13.239     1          75   \n",
       "7               0.000612   10     0.237    -7.184     1          60   \n",
       "...                  ...  ...       ...       ...   ...         ...   \n",
       "151755          0.000000    4     0.374    -4.251     0          57   \n",
       "151756          0.000000    6     0.246    -9.985     0          70   \n",
       "151757          0.000000    4     0.337    -4.845     0          58   \n",
       "151758          0.000000    0     0.137    -4.659     1          69   \n",
       "151759          0.000000    4     0.529    -5.952     1          66   \n",
       "\n",
       "        speechiness    tempo  award  \n",
       "1            0.3060  190.011  False  \n",
       "2            0.3590   84.022  False  \n",
       "4            0.9300   88.824  False  \n",
       "6            0.3150   62.446  False  \n",
       "7            0.0453  100.009  False  \n",
       "...             ...      ...    ...  \n",
       "151755       0.1080  131.147   True  \n",
       "151756       0.3780  135.956   True  \n",
       "151757       0.1670  127.959   True  \n",
       "151758       0.1240   82.617   True  \n",
       "151759       0.0917  173.143   True  \n",
       "\n",
       "[32760 rows x 15 columns]"
      ],
      "text/html": "<div>\n<style scoped>\n    .dataframe tbody tr th:only-of-type {\n        vertical-align: middle;\n    }\n\n    .dataframe tbody tr th {\n        vertical-align: top;\n    }\n\n    .dataframe thead th {\n        text-align: right;\n    }\n</style>\n<table border=\"1\" class=\"dataframe\">\n  <thead>\n    <tr style=\"text-align: right;\">\n      <th></th>\n      <th>valence</th>\n      <th>acousticness</th>\n      <th>danceability</th>\n      <th>duration_ms</th>\n      <th>energy</th>\n      <th>explicit</th>\n      <th>instrumentalness</th>\n      <th>key</th>\n      <th>liveness</th>\n      <th>loudness</th>\n      <th>mode</th>\n      <th>popularity</th>\n      <th>speechiness</th>\n      <th>tempo</th>\n      <th>award</th>\n    </tr>\n  </thead>\n  <tbody>\n    <tr>\n      <th>1</th>\n      <td>0.3870</td>\n      <td>0.494000</td>\n      <td>0.734</td>\n      <td>165214</td>\n      <td>0.472</td>\n      <td>1</td>\n      <td>0.002930</td>\n      <td>1</td>\n      <td>0.102</td>\n      <td>-8.192</td>\n      <td>0</td>\n      <td>64</td>\n      <td>0.3060</td>\n      <td>190.011</td>\n      <td>False</td>\n    </tr>\n    <tr>\n      <th>2</th>\n      <td>0.3060</td>\n      <td>0.000244</td>\n      <td>0.885</td>\n      <td>148656</td>\n      <td>0.520</td>\n      <td>1</td>\n      <td>0.000001</td>\n      <td>1</td>\n      <td>0.454</td>\n      <td>-8.353</td>\n      <td>1</td>\n      <td>60</td>\n      <td>0.3590</td>\n      <td>84.022</td>\n      <td>False</td>\n    </tr>\n    <tr>\n      <th>4</th>\n      <td>0.2360</td>\n      <td>0.776000</td>\n      <td>0.561</td>\n      <td>334680</td>\n      <td>0.960</td>\n      <td>1</td>\n      <td>0.000000</td>\n      <td>1</td>\n      <td>0.690</td>\n      <td>-5.781</td>\n      <td>1</td>\n      <td>44</td>\n      <td>0.9300</td>\n      <td>88.824</td>\n      <td>False</td>\n    </tr>\n    <tr>\n      <th>6</th>\n      <td>0.4620</td>\n      <td>0.698000</td>\n      <td>0.735</td>\n      <td>173202</td>\n      <td>0.235</td>\n      <td>0</td>\n      <td>0.006040</td>\n      <td>3</td>\n      <td>0.107</td>\n      <td>-13.239</td>\n      <td>1</td>\n      <td>75</td>\n      <td>0.3150</td>\n      <td>62.446</td>\n      <td>False</td>\n    </tr>\n    <tr>\n      <th>7</th>\n      <td>0.0379</td>\n      <td>0.000803</td>\n      <td>0.680</td>\n      <td>255787</td>\n      <td>0.712</td>\n      <td>1</td>\n      <td>0.000612</td>\n      <td>10</td>\n      <td>0.237</td>\n      <td>-7.184</td>\n      <td>1</td>\n      <td>60</td>\n      <td>0.0453</td>\n      <td>100.009</td>\n      <td>False</td>\n    </tr>\n    <tr>\n      <th>...</th>\n      <td>...</td>\n      <td>...</td>\n      <td>...</td>\n      <td>...</td>\n      <td>...</td>\n      <td>...</td>\n      <td>...</td>\n      <td>...</td>\n      <td>...</td>\n      <td>...</td>\n      <td>...</td>\n      <td>...</td>\n      <td>...</td>\n      <td>...</td>\n      <td>...</td>\n    </tr>\n    <tr>\n      <th>151755</th>\n      <td>0.7930</td>\n      <td>0.011300</td>\n      <td>0.648</td>\n      <td>228240</td>\n      <td>0.908</td>\n      <td>0</td>\n      <td>0.000000</td>\n      <td>4</td>\n      <td>0.374</td>\n      <td>-4.251</td>\n      <td>0</td>\n      <td>57</td>\n      <td>0.1080</td>\n      <td>131.147</td>\n      <td>True</td>\n    </tr>\n    <tr>\n      <th>151756</th>\n      <td>0.6470</td>\n      <td>0.157000</td>\n      <td>0.779</td>\n      <td>300160</td>\n      <td>0.572</td>\n      <td>1</td>\n      <td>0.000000</td>\n      <td>6</td>\n      <td>0.246</td>\n      <td>-9.985</td>\n      <td>0</td>\n      <td>70</td>\n      <td>0.3780</td>\n      <td>135.956</td>\n      <td>True</td>\n    </tr>\n    <tr>\n      <th>151757</th>\n      <td>0.5130</td>\n      <td>0.293000</td>\n      <td>0.642</td>\n      <td>229213</td>\n      <td>0.722</td>\n      <td>0</td>\n      <td>0.000000</td>\n      <td>4</td>\n      <td>0.337</td>\n      <td>-4.845</td>\n      <td>0</td>\n      <td>58</td>\n      <td>0.1670</td>\n      <td>127.959</td>\n      <td>True</td>\n    </tr>\n    <tr>\n      <th>151758</th>\n      <td>0.5920</td>\n      <td>0.177000</td>\n      <td>0.423</td>\n      <td>297760</td>\n      <td>0.797</td>\n      <td>0</td>\n      <td>0.000000</td>\n      <td>0</td>\n      <td>0.137</td>\n      <td>-4.659</td>\n      <td>1</td>\n      <td>69</td>\n      <td>0.1240</td>\n      <td>82.617</td>\n      <td>True</td>\n    </tr>\n    <tr>\n      <th>151759</th>\n      <td>0.6220</td>\n      <td>0.103000</td>\n      <td>0.411</td>\n      <td>172646</td>\n      <td>0.962</td>\n      <td>1</td>\n      <td>0.000000</td>\n      <td>4</td>\n      <td>0.529</td>\n      <td>-5.952</td>\n      <td>1</td>\n      <td>66</td>\n      <td>0.0917</td>\n      <td>173.143</td>\n      <td>True</td>\n    </tr>\n  </tbody>\n</table>\n<p>32760 rows × 15 columns</p>\n</div>"
     },
     "metadata": {},
     "execution_count": 1
    }
   ],
   "source": [
    "import pandas as pd\n",
    "import numpy as np\n",
    "\n",
    "df = pd.read_csv('../data/songs.csv')\n",
    "df = df.drop(columns=['_id', 'award_nation', 'id', 'release_date', 'artists', 'name'])\n",
    "df = df.rename(columns={'award_type': 'award'})\n",
    "df['award'] = [False if str(x) == 'nan' else True for x in df['award']]\n",
    "df = df[(df['year'] > 2000) & (df['popularity'] > 25)]\n",
    "df = df.drop(columns=['year'])\n",
    "df"
   ]
  },
  {
   "cell_type": "code",
   "execution_count": 2,
   "metadata": {},
   "outputs": [
    {
     "output_type": "execute_result",
     "data": {
      "text/plain": [
       "       valence  acousticness  danceability  duration_ms  energy  explicit  \\\n",
       "0       0.3870      0.495984      0.744422     0.025058   0.472       1.0   \n",
       "1       0.3060      0.000245      0.897566     0.021976   0.520       1.0   \n",
       "2       0.2360      0.779116      0.568966     0.056599   0.960       1.0   \n",
       "3       0.4620      0.700803      0.745436     0.026545   0.235       0.0   \n",
       "4       0.0379      0.000806      0.689655     0.041915   0.712       1.0   \n",
       "...        ...           ...           ...          ...     ...       ...   \n",
       "32755   0.7930      0.011345      0.657201     0.036788   0.908       0.0   \n",
       "32756   0.6470      0.157631      0.790061     0.050174   0.572       1.0   \n",
       "32757   0.5130      0.294177      0.651116     0.036969   0.722       0.0   \n",
       "32758   0.5920      0.177711      0.429006     0.049727   0.797       0.0   \n",
       "32759   0.6220      0.103414      0.416836     0.026441   0.962       1.0   \n",
       "\n",
       "       instrumentalness       key  liveness  loudness  mode  popularity  \\\n",
       "0              0.002930  0.090909     0.102  0.842639   0.0    0.470588   \n",
       "1              0.000001  0.090909     0.454  0.840021   1.0    0.411765   \n",
       "2              0.000000  0.090909     0.690  0.881854   1.0    0.176471   \n",
       "3              0.006040  0.272727     0.107  0.760552   1.0    0.632353   \n",
       "4              0.000612  0.909091     0.237  0.859034   1.0    0.411765   \n",
       "...                 ...       ...       ...       ...   ...         ...   \n",
       "32755          0.000000  0.363636     0.374  0.906738   0.0    0.367647   \n",
       "32756          0.000000  0.545455     0.246  0.813477   0.0    0.558824   \n",
       "32757          0.000000  0.363636     0.337  0.897077   0.0    0.382353   \n",
       "32758          0.000000  0.000000     0.137  0.900102   1.0    0.544118   \n",
       "32759          0.000000  0.363636     0.529  0.879072   1.0    0.500000   \n",
       "\n",
       "       speechiness     tempo  award  \n",
       "0         0.322105  0.863298  False  \n",
       "1         0.377895  0.381746  False  \n",
       "2         0.978947  0.403564  False  \n",
       "3         0.331579  0.283718  False  \n",
       "4         0.047684  0.454382  False  \n",
       "...            ...       ...    ...  \n",
       "32755     0.113684  0.595855   True  \n",
       "32756     0.397895  0.617704   True  \n",
       "32757     0.175789  0.581370   True  \n",
       "32758     0.130526  0.375363   True  \n",
       "32759     0.096526  0.786660   True  \n",
       "\n",
       "[32760 rows x 15 columns]"
      ],
      "text/html": "<div>\n<style scoped>\n    .dataframe tbody tr th:only-of-type {\n        vertical-align: middle;\n    }\n\n    .dataframe tbody tr th {\n        vertical-align: top;\n    }\n\n    .dataframe thead th {\n        text-align: right;\n    }\n</style>\n<table border=\"1\" class=\"dataframe\">\n  <thead>\n    <tr style=\"text-align: right;\">\n      <th></th>\n      <th>valence</th>\n      <th>acousticness</th>\n      <th>danceability</th>\n      <th>duration_ms</th>\n      <th>energy</th>\n      <th>explicit</th>\n      <th>instrumentalness</th>\n      <th>key</th>\n      <th>liveness</th>\n      <th>loudness</th>\n      <th>mode</th>\n      <th>popularity</th>\n      <th>speechiness</th>\n      <th>tempo</th>\n      <th>award</th>\n    </tr>\n  </thead>\n  <tbody>\n    <tr>\n      <th>0</th>\n      <td>0.3870</td>\n      <td>0.495984</td>\n      <td>0.744422</td>\n      <td>0.025058</td>\n      <td>0.472</td>\n      <td>1.0</td>\n      <td>0.002930</td>\n      <td>0.090909</td>\n      <td>0.102</td>\n      <td>0.842639</td>\n      <td>0.0</td>\n      <td>0.470588</td>\n      <td>0.322105</td>\n      <td>0.863298</td>\n      <td>False</td>\n    </tr>\n    <tr>\n      <th>1</th>\n      <td>0.3060</td>\n      <td>0.000245</td>\n      <td>0.897566</td>\n      <td>0.021976</td>\n      <td>0.520</td>\n      <td>1.0</td>\n      <td>0.000001</td>\n      <td>0.090909</td>\n      <td>0.454</td>\n      <td>0.840021</td>\n      <td>1.0</td>\n      <td>0.411765</td>\n      <td>0.377895</td>\n      <td>0.381746</td>\n      <td>False</td>\n    </tr>\n    <tr>\n      <th>2</th>\n      <td>0.2360</td>\n      <td>0.779116</td>\n      <td>0.568966</td>\n      <td>0.056599</td>\n      <td>0.960</td>\n      <td>1.0</td>\n      <td>0.000000</td>\n      <td>0.090909</td>\n      <td>0.690</td>\n      <td>0.881854</td>\n      <td>1.0</td>\n      <td>0.176471</td>\n      <td>0.978947</td>\n      <td>0.403564</td>\n      <td>False</td>\n    </tr>\n    <tr>\n      <th>3</th>\n      <td>0.4620</td>\n      <td>0.700803</td>\n      <td>0.745436</td>\n      <td>0.026545</td>\n      <td>0.235</td>\n      <td>0.0</td>\n      <td>0.006040</td>\n      <td>0.272727</td>\n      <td>0.107</td>\n      <td>0.760552</td>\n      <td>1.0</td>\n      <td>0.632353</td>\n      <td>0.331579</td>\n      <td>0.283718</td>\n      <td>False</td>\n    </tr>\n    <tr>\n      <th>4</th>\n      <td>0.0379</td>\n      <td>0.000806</td>\n      <td>0.689655</td>\n      <td>0.041915</td>\n      <td>0.712</td>\n      <td>1.0</td>\n      <td>0.000612</td>\n      <td>0.909091</td>\n      <td>0.237</td>\n      <td>0.859034</td>\n      <td>1.0</td>\n      <td>0.411765</td>\n      <td>0.047684</td>\n      <td>0.454382</td>\n      <td>False</td>\n    </tr>\n    <tr>\n      <th>...</th>\n      <td>...</td>\n      <td>...</td>\n      <td>...</td>\n      <td>...</td>\n      <td>...</td>\n      <td>...</td>\n      <td>...</td>\n      <td>...</td>\n      <td>...</td>\n      <td>...</td>\n      <td>...</td>\n      <td>...</td>\n      <td>...</td>\n      <td>...</td>\n      <td>...</td>\n    </tr>\n    <tr>\n      <th>32755</th>\n      <td>0.7930</td>\n      <td>0.011345</td>\n      <td>0.657201</td>\n      <td>0.036788</td>\n      <td>0.908</td>\n      <td>0.0</td>\n      <td>0.000000</td>\n      <td>0.363636</td>\n      <td>0.374</td>\n      <td>0.906738</td>\n      <td>0.0</td>\n      <td>0.367647</td>\n      <td>0.113684</td>\n      <td>0.595855</td>\n      <td>True</td>\n    </tr>\n    <tr>\n      <th>32756</th>\n      <td>0.6470</td>\n      <td>0.157631</td>\n      <td>0.790061</td>\n      <td>0.050174</td>\n      <td>0.572</td>\n      <td>1.0</td>\n      <td>0.000000</td>\n      <td>0.545455</td>\n      <td>0.246</td>\n      <td>0.813477</td>\n      <td>0.0</td>\n      <td>0.558824</td>\n      <td>0.397895</td>\n      <td>0.617704</td>\n      <td>True</td>\n    </tr>\n    <tr>\n      <th>32757</th>\n      <td>0.5130</td>\n      <td>0.294177</td>\n      <td>0.651116</td>\n      <td>0.036969</td>\n      <td>0.722</td>\n      <td>0.0</td>\n      <td>0.000000</td>\n      <td>0.363636</td>\n      <td>0.337</td>\n      <td>0.897077</td>\n      <td>0.0</td>\n      <td>0.382353</td>\n      <td>0.175789</td>\n      <td>0.581370</td>\n      <td>True</td>\n    </tr>\n    <tr>\n      <th>32758</th>\n      <td>0.5920</td>\n      <td>0.177711</td>\n      <td>0.429006</td>\n      <td>0.049727</td>\n      <td>0.797</td>\n      <td>0.0</td>\n      <td>0.000000</td>\n      <td>0.000000</td>\n      <td>0.137</td>\n      <td>0.900102</td>\n      <td>1.0</td>\n      <td>0.544118</td>\n      <td>0.130526</td>\n      <td>0.375363</td>\n      <td>True</td>\n    </tr>\n    <tr>\n      <th>32759</th>\n      <td>0.6220</td>\n      <td>0.103414</td>\n      <td>0.416836</td>\n      <td>0.026441</td>\n      <td>0.962</td>\n      <td>1.0</td>\n      <td>0.000000</td>\n      <td>0.363636</td>\n      <td>0.529</td>\n      <td>0.879072</td>\n      <td>1.0</td>\n      <td>0.500000</td>\n      <td>0.096526</td>\n      <td>0.786660</td>\n      <td>True</td>\n    </tr>\n  </tbody>\n</table>\n<p>32760 rows × 15 columns</p>\n</div>"
     },
     "metadata": {},
     "execution_count": 2
    }
   ],
   "source": [
    "from sklearn import preprocessing\n",
    "\n",
    "min_max_scaler = preprocessing.MinMaxScaler()\n",
    "sclaed = min_max_scaler.fit_transform(df.values)\n",
    "df = pd.DataFrame(sclaed, columns = df.columns)\n",
    "df['award'] = [x == 1 for x in df['award']]\n",
    "df"
   ]
  },
  {
   "cell_type": "code",
   "execution_count": 3,
   "metadata": {},
   "outputs": [
    {
     "output_type": "execute_result",
     "data": {
      "text/plain": [
       "       valence  acousticness  danceability  duration_ms  energy  explicit  \\\n",
       "30708    0.676      0.103414      0.631846     0.033686   0.962       0.0   \n",
       "30709    0.586      0.111446      0.812373     0.055162   0.682       0.0   \n",
       "30710    0.713      0.002620      0.673428     0.032216   0.561       1.0   \n",
       "30711    0.345      0.039960      0.751521     0.035634   0.575       0.0   \n",
       "30712    0.463      0.046787      0.752535     0.035474   0.882       0.0   \n",
       "...        ...           ...           ...          ...     ...       ...   \n",
       "32755    0.793      0.011345      0.657201     0.036788   0.908       0.0   \n",
       "32756    0.647      0.157631      0.790061     0.050174   0.572       1.0   \n",
       "32757    0.513      0.294177      0.651116     0.036969   0.722       0.0   \n",
       "32758    0.592      0.177711      0.429006     0.049727   0.797       0.0   \n",
       "32759    0.622      0.103414      0.416836     0.026441   0.962       1.0   \n",
       "\n",
       "       instrumentalness       key  liveness  loudness  mode  popularity  \\\n",
       "30708          0.000174  0.363636    0.2640  0.933331   0.0    0.544118   \n",
       "30709          0.000016  0.090909    0.1090  0.879609   0.0    0.485294   \n",
       "30710          0.000000  0.545455    0.0764  0.861523   1.0    0.661765   \n",
       "30711          0.127000  0.909091    0.0853  0.887790   0.0    0.205882   \n",
       "30712          0.000000  0.636364    0.2060  0.929330   1.0    0.661765   \n",
       "...                 ...       ...       ...       ...   ...         ...   \n",
       "32755          0.000000  0.363636    0.3740  0.906738   0.0    0.367647   \n",
       "32756          0.000000  0.545455    0.2460  0.813477   0.0    0.558824   \n",
       "32757          0.000000  0.363636    0.3370  0.897077   0.0    0.382353   \n",
       "32758          0.000000  0.000000    0.1370  0.900102   1.0    0.544118   \n",
       "32759          0.000000  0.363636    0.5290  0.879072   1.0    0.500000   \n",
       "\n",
       "       speechiness     tempo  award  \n",
       "30708     0.094211  0.681343   True  \n",
       "30709     0.236842  0.563156   True  \n",
       "30710     0.052105  0.681934   True  \n",
       "30711     0.058421  0.427044   True  \n",
       "30712     0.123158  0.463610   True  \n",
       "...            ...       ...    ...  \n",
       "32755     0.113684  0.595855   True  \n",
       "32756     0.397895  0.617704   True  \n",
       "32757     0.175789  0.581370   True  \n",
       "32758     0.130526  0.375363   True  \n",
       "32759     0.096526  0.786660   True  \n",
       "\n",
       "[2052 rows x 15 columns]"
      ],
      "text/html": "<div>\n<style scoped>\n    .dataframe tbody tr th:only-of-type {\n        vertical-align: middle;\n    }\n\n    .dataframe tbody tr th {\n        vertical-align: top;\n    }\n\n    .dataframe thead th {\n        text-align: right;\n    }\n</style>\n<table border=\"1\" class=\"dataframe\">\n  <thead>\n    <tr style=\"text-align: right;\">\n      <th></th>\n      <th>valence</th>\n      <th>acousticness</th>\n      <th>danceability</th>\n      <th>duration_ms</th>\n      <th>energy</th>\n      <th>explicit</th>\n      <th>instrumentalness</th>\n      <th>key</th>\n      <th>liveness</th>\n      <th>loudness</th>\n      <th>mode</th>\n      <th>popularity</th>\n      <th>speechiness</th>\n      <th>tempo</th>\n      <th>award</th>\n    </tr>\n  </thead>\n  <tbody>\n    <tr>\n      <th>30708</th>\n      <td>0.676</td>\n      <td>0.103414</td>\n      <td>0.631846</td>\n      <td>0.033686</td>\n      <td>0.962</td>\n      <td>0.0</td>\n      <td>0.000174</td>\n      <td>0.363636</td>\n      <td>0.2640</td>\n      <td>0.933331</td>\n      <td>0.0</td>\n      <td>0.544118</td>\n      <td>0.094211</td>\n      <td>0.681343</td>\n      <td>True</td>\n    </tr>\n    <tr>\n      <th>30709</th>\n      <td>0.586</td>\n      <td>0.111446</td>\n      <td>0.812373</td>\n      <td>0.055162</td>\n      <td>0.682</td>\n      <td>0.0</td>\n      <td>0.000016</td>\n      <td>0.090909</td>\n      <td>0.1090</td>\n      <td>0.879609</td>\n      <td>0.0</td>\n      <td>0.485294</td>\n      <td>0.236842</td>\n      <td>0.563156</td>\n      <td>True</td>\n    </tr>\n    <tr>\n      <th>30710</th>\n      <td>0.713</td>\n      <td>0.002620</td>\n      <td>0.673428</td>\n      <td>0.032216</td>\n      <td>0.561</td>\n      <td>1.0</td>\n      <td>0.000000</td>\n      <td>0.545455</td>\n      <td>0.0764</td>\n      <td>0.861523</td>\n      <td>1.0</td>\n      <td>0.661765</td>\n      <td>0.052105</td>\n      <td>0.681934</td>\n      <td>True</td>\n    </tr>\n    <tr>\n      <th>30711</th>\n      <td>0.345</td>\n      <td>0.039960</td>\n      <td>0.751521</td>\n      <td>0.035634</td>\n      <td>0.575</td>\n      <td>0.0</td>\n      <td>0.127000</td>\n      <td>0.909091</td>\n      <td>0.0853</td>\n      <td>0.887790</td>\n      <td>0.0</td>\n      <td>0.205882</td>\n      <td>0.058421</td>\n      <td>0.427044</td>\n      <td>True</td>\n    </tr>\n    <tr>\n      <th>30712</th>\n      <td>0.463</td>\n      <td>0.046787</td>\n      <td>0.752535</td>\n      <td>0.035474</td>\n      <td>0.882</td>\n      <td>0.0</td>\n      <td>0.000000</td>\n      <td>0.636364</td>\n      <td>0.2060</td>\n      <td>0.929330</td>\n      <td>1.0</td>\n      <td>0.661765</td>\n      <td>0.123158</td>\n      <td>0.463610</td>\n      <td>True</td>\n    </tr>\n    <tr>\n      <th>...</th>\n      <td>...</td>\n      <td>...</td>\n      <td>...</td>\n      <td>...</td>\n      <td>...</td>\n      <td>...</td>\n      <td>...</td>\n      <td>...</td>\n      <td>...</td>\n      <td>...</td>\n      <td>...</td>\n      <td>...</td>\n      <td>...</td>\n      <td>...</td>\n      <td>...</td>\n    </tr>\n    <tr>\n      <th>32755</th>\n      <td>0.793</td>\n      <td>0.011345</td>\n      <td>0.657201</td>\n      <td>0.036788</td>\n      <td>0.908</td>\n      <td>0.0</td>\n      <td>0.000000</td>\n      <td>0.363636</td>\n      <td>0.3740</td>\n      <td>0.906738</td>\n      <td>0.0</td>\n      <td>0.367647</td>\n      <td>0.113684</td>\n      <td>0.595855</td>\n      <td>True</td>\n    </tr>\n    <tr>\n      <th>32756</th>\n      <td>0.647</td>\n      <td>0.157631</td>\n      <td>0.790061</td>\n      <td>0.050174</td>\n      <td>0.572</td>\n      <td>1.0</td>\n      <td>0.000000</td>\n      <td>0.545455</td>\n      <td>0.2460</td>\n      <td>0.813477</td>\n      <td>0.0</td>\n      <td>0.558824</td>\n      <td>0.397895</td>\n      <td>0.617704</td>\n      <td>True</td>\n    </tr>\n    <tr>\n      <th>32757</th>\n      <td>0.513</td>\n      <td>0.294177</td>\n      <td>0.651116</td>\n      <td>0.036969</td>\n      <td>0.722</td>\n      <td>0.0</td>\n      <td>0.000000</td>\n      <td>0.363636</td>\n      <td>0.3370</td>\n      <td>0.897077</td>\n      <td>0.0</td>\n      <td>0.382353</td>\n      <td>0.175789</td>\n      <td>0.581370</td>\n      <td>True</td>\n    </tr>\n    <tr>\n      <th>32758</th>\n      <td>0.592</td>\n      <td>0.177711</td>\n      <td>0.429006</td>\n      <td>0.049727</td>\n      <td>0.797</td>\n      <td>0.0</td>\n      <td>0.000000</td>\n      <td>0.000000</td>\n      <td>0.1370</td>\n      <td>0.900102</td>\n      <td>1.0</td>\n      <td>0.544118</td>\n      <td>0.130526</td>\n      <td>0.375363</td>\n      <td>True</td>\n    </tr>\n    <tr>\n      <th>32759</th>\n      <td>0.622</td>\n      <td>0.103414</td>\n      <td>0.416836</td>\n      <td>0.026441</td>\n      <td>0.962</td>\n      <td>1.0</td>\n      <td>0.000000</td>\n      <td>0.363636</td>\n      <td>0.5290</td>\n      <td>0.879072</td>\n      <td>1.0</td>\n      <td>0.500000</td>\n      <td>0.096526</td>\n      <td>0.786660</td>\n      <td>True</td>\n    </tr>\n  </tbody>\n</table>\n<p>2052 rows × 15 columns</p>\n</div>"
     },
     "metadata": {},
     "execution_count": 3
    }
   ],
   "source": [
    "positive = df[df['award'] == True]\n",
    "positive"
   ]
  },
  {
   "cell_type": "code",
   "execution_count": 4,
   "metadata": {},
   "outputs": [
    {
     "output_type": "execute_result",
     "data": {
      "text/plain": [
       "       valence  acousticness  danceability  duration_ms  energy  explicit  \\\n",
       "12054    0.768      0.051004      0.902637     0.067520   0.654       1.0   \n",
       "12878    0.816      0.105422      0.676471     0.035438   0.797       1.0   \n",
       "18203    0.541      0.377510      0.646045     0.023847   0.682       0.0   \n",
       "18410    0.423      0.010141      0.799189     0.029509   0.485       0.0   \n",
       "17794    0.122      0.678715      0.523327     0.065480   0.411       0.0   \n",
       "...        ...           ...           ...          ...     ...       ...   \n",
       "21540    0.182      0.007018      0.886410     0.038468   0.719       0.0   \n",
       "29537    0.668      0.147590      0.532454     0.030049   0.635       0.0   \n",
       "3906     0.745      0.015060      0.647059     0.024959   0.942       0.0   \n",
       "17699    0.318      0.021386      0.597363     0.039908   0.614       0.0   \n",
       "24682    0.477      0.061747      0.579108     0.032709   0.903       0.0   \n",
       "\n",
       "       instrumentalness       key  liveness  loudness  mode  popularity  \\\n",
       "12054          0.000000  0.000000    0.1890  0.874730   0.0    0.117647   \n",
       "12878          0.000000  1.000000    0.1700  0.878096   0.0    0.352941   \n",
       "18203          0.000000  0.181818    0.1700  0.900542   1.0    0.205882   \n",
       "18410          0.000524  1.000000    0.0288  0.848999   0.0    0.411765   \n",
       "17794          0.000018  0.181818    0.0978  0.835906   1.0    0.147059   \n",
       "...                 ...       ...       ...       ...   ...         ...   \n",
       "21540          0.000323  0.090909    0.2930  0.833580   1.0    0.117647   \n",
       "29537          0.000114  0.454545    0.1220  0.848934   1.0    0.338235   \n",
       "3906           0.000000  0.454545    0.3100  0.908170   0.0    0.500000   \n",
       "17699          0.165000  0.000000    0.3100  0.853439   0.0    0.514706   \n",
       "24682          0.000001  0.636364    0.1860  0.940357   1.0    0.382353   \n",
       "\n",
       "       speechiness     tempo  award  \n",
       "12054     0.114737  0.672334  False  \n",
       "12878     0.368421  0.817882  False  \n",
       "18203     0.030632  0.368089  False  \n",
       "18410     0.269474  0.568203  False  \n",
       "17794     0.031684  0.589594  False  \n",
       "...            ...       ...    ...  \n",
       "21540     0.240000  0.464586  False  \n",
       "29537     0.025158  0.374581  False  \n",
       "3906      0.090211  0.649235  False  \n",
       "17699     0.044842  0.544469  False  \n",
       "24682     0.225263  0.581334  False  \n",
       "\n",
       "[28656 rows x 15 columns]"
      ],
      "text/html": "<div>\n<style scoped>\n    .dataframe tbody tr th:only-of-type {\n        vertical-align: middle;\n    }\n\n    .dataframe tbody tr th {\n        vertical-align: top;\n    }\n\n    .dataframe thead th {\n        text-align: right;\n    }\n</style>\n<table border=\"1\" class=\"dataframe\">\n  <thead>\n    <tr style=\"text-align: right;\">\n      <th></th>\n      <th>valence</th>\n      <th>acousticness</th>\n      <th>danceability</th>\n      <th>duration_ms</th>\n      <th>energy</th>\n      <th>explicit</th>\n      <th>instrumentalness</th>\n      <th>key</th>\n      <th>liveness</th>\n      <th>loudness</th>\n      <th>mode</th>\n      <th>popularity</th>\n      <th>speechiness</th>\n      <th>tempo</th>\n      <th>award</th>\n    </tr>\n  </thead>\n  <tbody>\n    <tr>\n      <th>12054</th>\n      <td>0.768</td>\n      <td>0.051004</td>\n      <td>0.902637</td>\n      <td>0.067520</td>\n      <td>0.654</td>\n      <td>1.0</td>\n      <td>0.000000</td>\n      <td>0.000000</td>\n      <td>0.1890</td>\n      <td>0.874730</td>\n      <td>0.0</td>\n      <td>0.117647</td>\n      <td>0.114737</td>\n      <td>0.672334</td>\n      <td>False</td>\n    </tr>\n    <tr>\n      <th>12878</th>\n      <td>0.816</td>\n      <td>0.105422</td>\n      <td>0.676471</td>\n      <td>0.035438</td>\n      <td>0.797</td>\n      <td>1.0</td>\n      <td>0.000000</td>\n      <td>1.000000</td>\n      <td>0.1700</td>\n      <td>0.878096</td>\n      <td>0.0</td>\n      <td>0.352941</td>\n      <td>0.368421</td>\n      <td>0.817882</td>\n      <td>False</td>\n    </tr>\n    <tr>\n      <th>18203</th>\n      <td>0.541</td>\n      <td>0.377510</td>\n      <td>0.646045</td>\n      <td>0.023847</td>\n      <td>0.682</td>\n      <td>0.0</td>\n      <td>0.000000</td>\n      <td>0.181818</td>\n      <td>0.1700</td>\n      <td>0.900542</td>\n      <td>1.0</td>\n      <td>0.205882</td>\n      <td>0.030632</td>\n      <td>0.368089</td>\n      <td>False</td>\n    </tr>\n    <tr>\n      <th>18410</th>\n      <td>0.423</td>\n      <td>0.010141</td>\n      <td>0.799189</td>\n      <td>0.029509</td>\n      <td>0.485</td>\n      <td>0.0</td>\n      <td>0.000524</td>\n      <td>1.000000</td>\n      <td>0.0288</td>\n      <td>0.848999</td>\n      <td>0.0</td>\n      <td>0.411765</td>\n      <td>0.269474</td>\n      <td>0.568203</td>\n      <td>False</td>\n    </tr>\n    <tr>\n      <th>17794</th>\n      <td>0.122</td>\n      <td>0.678715</td>\n      <td>0.523327</td>\n      <td>0.065480</td>\n      <td>0.411</td>\n      <td>0.0</td>\n      <td>0.000018</td>\n      <td>0.181818</td>\n      <td>0.0978</td>\n      <td>0.835906</td>\n      <td>1.0</td>\n      <td>0.147059</td>\n      <td>0.031684</td>\n      <td>0.589594</td>\n      <td>False</td>\n    </tr>\n    <tr>\n      <th>...</th>\n      <td>...</td>\n      <td>...</td>\n      <td>...</td>\n      <td>...</td>\n      <td>...</td>\n      <td>...</td>\n      <td>...</td>\n      <td>...</td>\n      <td>...</td>\n      <td>...</td>\n      <td>...</td>\n      <td>...</td>\n      <td>...</td>\n      <td>...</td>\n      <td>...</td>\n    </tr>\n    <tr>\n      <th>21540</th>\n      <td>0.182</td>\n      <td>0.007018</td>\n      <td>0.886410</td>\n      <td>0.038468</td>\n      <td>0.719</td>\n      <td>0.0</td>\n      <td>0.000323</td>\n      <td>0.090909</td>\n      <td>0.2930</td>\n      <td>0.833580</td>\n      <td>1.0</td>\n      <td>0.117647</td>\n      <td>0.240000</td>\n      <td>0.464586</td>\n      <td>False</td>\n    </tr>\n    <tr>\n      <th>29537</th>\n      <td>0.668</td>\n      <td>0.147590</td>\n      <td>0.532454</td>\n      <td>0.030049</td>\n      <td>0.635</td>\n      <td>0.0</td>\n      <td>0.000114</td>\n      <td>0.454545</td>\n      <td>0.1220</td>\n      <td>0.848934</td>\n      <td>1.0</td>\n      <td>0.338235</td>\n      <td>0.025158</td>\n      <td>0.374581</td>\n      <td>False</td>\n    </tr>\n    <tr>\n      <th>3906</th>\n      <td>0.745</td>\n      <td>0.015060</td>\n      <td>0.647059</td>\n      <td>0.024959</td>\n      <td>0.942</td>\n      <td>0.0</td>\n      <td>0.000000</td>\n      <td>0.454545</td>\n      <td>0.3100</td>\n      <td>0.908170</td>\n      <td>0.0</td>\n      <td>0.500000</td>\n      <td>0.090211</td>\n      <td>0.649235</td>\n      <td>False</td>\n    </tr>\n    <tr>\n      <th>17699</th>\n      <td>0.318</td>\n      <td>0.021386</td>\n      <td>0.597363</td>\n      <td>0.039908</td>\n      <td>0.614</td>\n      <td>0.0</td>\n      <td>0.165000</td>\n      <td>0.000000</td>\n      <td>0.3100</td>\n      <td>0.853439</td>\n      <td>0.0</td>\n      <td>0.514706</td>\n      <td>0.044842</td>\n      <td>0.544469</td>\n      <td>False</td>\n    </tr>\n    <tr>\n      <th>24682</th>\n      <td>0.477</td>\n      <td>0.061747</td>\n      <td>0.579108</td>\n      <td>0.032709</td>\n      <td>0.903</td>\n      <td>0.0</td>\n      <td>0.000001</td>\n      <td>0.636364</td>\n      <td>0.1860</td>\n      <td>0.940357</td>\n      <td>1.0</td>\n      <td>0.382353</td>\n      <td>0.225263</td>\n      <td>0.581334</td>\n      <td>False</td>\n    </tr>\n  </tbody>\n</table>\n<p>28656 rows × 15 columns</p>\n</div>"
     },
     "metadata": {},
     "execution_count": 4
    }
   ],
   "source": [
    "negative = df[df['award'] == False]\n",
    "negative_shuffle = negative.sample(frac=1, random_state=830694)\n",
    "negative_not_training = negative_shuffle[positive.shape[0]:]\n",
    "negative_not_training"
   ]
  },
  {
   "cell_type": "code",
   "execution_count": 5,
   "metadata": {},
   "outputs": [
    {
     "output_type": "execute_result",
     "data": {
      "text/plain": [
       "       valence  acousticness  danceability  duration_ms  energy  explicit  \\\n",
       "6294     0.367      0.040161      0.606491     0.042513   0.786       1.0   \n",
       "739      0.842      0.894578      0.409736     0.015842   0.182       0.0   \n",
       "17343    0.291      0.483936      0.756592     0.042141   0.339       0.0   \n",
       "10294    0.779      0.798193      0.722110     0.014416   0.374       1.0   \n",
       "2373     0.930      0.452811      0.639959     0.028281   0.746       0.0   \n",
       "...        ...           ...           ...          ...     ...       ...   \n",
       "1748     0.334      0.006888      0.578093     0.038195   0.733       0.0   \n",
       "3312     0.823      0.323293      0.921907     0.026181   0.541       1.0   \n",
       "7285     0.352      0.002078      0.855984     0.035978   0.682       0.0   \n",
       "6848     0.477      0.133534      0.759635     0.065252   0.712       0.0   \n",
       "28373    0.884      0.382530      0.806288     0.044228   0.731       0.0   \n",
       "\n",
       "       instrumentalness       key  liveness  loudness  mode  popularity  \\\n",
       "6294           0.000000  0.000000    0.2520  0.893954   1.0    0.352941   \n",
       "739            0.000429  0.090909    0.0732  0.759641   1.0    0.279412   \n",
       "17343          0.000014  0.181818    0.0838  0.828831   1.0    0.558824   \n",
       "10294          0.000000  0.000000    0.1870  0.809736   0.0    0.485294   \n",
       "2373           0.000000  0.636364    0.4240  0.887416   1.0    0.161765   \n",
       "...                 ...       ...       ...       ...   ...         ...   \n",
       "1748           0.000131  0.181818    0.2100  0.858872   1.0    0.338235   \n",
       "3312           0.000000  0.727273    0.0942  0.871200   1.0    0.544118   \n",
       "7285           0.797000  0.181818    0.1130  0.820454   1.0    0.397059   \n",
       "6848           0.001500  0.818182    0.4260  0.846445   0.0    0.323529   \n",
       "28373          0.001630  0.818182    0.0548  0.877381   1.0    0.338235   \n",
       "\n",
       "       speechiness     tempo  award  \n",
       "6294      0.042632  0.477194  False  \n",
       "739       0.072632  0.927596  False  \n",
       "17343     0.151579  0.544864  False  \n",
       "10294     0.537895  0.608599  False  \n",
       "2373      0.029158  0.494664  False  \n",
       "...            ...       ...    ...  \n",
       "1748      0.032211  0.499639  False  \n",
       "3312      0.523158  0.613842  False  \n",
       "7285      0.047684  0.454296  False  \n",
       "6848      0.043158  0.500016  False  \n",
       "28373     0.055684  0.436899  False  \n",
       "\n",
       "[2052 rows x 15 columns]"
      ],
      "text/html": "<div>\n<style scoped>\n    .dataframe tbody tr th:only-of-type {\n        vertical-align: middle;\n    }\n\n    .dataframe tbody tr th {\n        vertical-align: top;\n    }\n\n    .dataframe thead th {\n        text-align: right;\n    }\n</style>\n<table border=\"1\" class=\"dataframe\">\n  <thead>\n    <tr style=\"text-align: right;\">\n      <th></th>\n      <th>valence</th>\n      <th>acousticness</th>\n      <th>danceability</th>\n      <th>duration_ms</th>\n      <th>energy</th>\n      <th>explicit</th>\n      <th>instrumentalness</th>\n      <th>key</th>\n      <th>liveness</th>\n      <th>loudness</th>\n      <th>mode</th>\n      <th>popularity</th>\n      <th>speechiness</th>\n      <th>tempo</th>\n      <th>award</th>\n    </tr>\n  </thead>\n  <tbody>\n    <tr>\n      <th>6294</th>\n      <td>0.367</td>\n      <td>0.040161</td>\n      <td>0.606491</td>\n      <td>0.042513</td>\n      <td>0.786</td>\n      <td>1.0</td>\n      <td>0.000000</td>\n      <td>0.000000</td>\n      <td>0.2520</td>\n      <td>0.893954</td>\n      <td>1.0</td>\n      <td>0.352941</td>\n      <td>0.042632</td>\n      <td>0.477194</td>\n      <td>False</td>\n    </tr>\n    <tr>\n      <th>739</th>\n      <td>0.842</td>\n      <td>0.894578</td>\n      <td>0.409736</td>\n      <td>0.015842</td>\n      <td>0.182</td>\n      <td>0.0</td>\n      <td>0.000429</td>\n      <td>0.090909</td>\n      <td>0.0732</td>\n      <td>0.759641</td>\n      <td>1.0</td>\n      <td>0.279412</td>\n      <td>0.072632</td>\n      <td>0.927596</td>\n      <td>False</td>\n    </tr>\n    <tr>\n      <th>17343</th>\n      <td>0.291</td>\n      <td>0.483936</td>\n      <td>0.756592</td>\n      <td>0.042141</td>\n      <td>0.339</td>\n      <td>0.0</td>\n      <td>0.000014</td>\n      <td>0.181818</td>\n      <td>0.0838</td>\n      <td>0.828831</td>\n      <td>1.0</td>\n      <td>0.558824</td>\n      <td>0.151579</td>\n      <td>0.544864</td>\n      <td>False</td>\n    </tr>\n    <tr>\n      <th>10294</th>\n      <td>0.779</td>\n      <td>0.798193</td>\n      <td>0.722110</td>\n      <td>0.014416</td>\n      <td>0.374</td>\n      <td>1.0</td>\n      <td>0.000000</td>\n      <td>0.000000</td>\n      <td>0.1870</td>\n      <td>0.809736</td>\n      <td>0.0</td>\n      <td>0.485294</td>\n      <td>0.537895</td>\n      <td>0.608599</td>\n      <td>False</td>\n    </tr>\n    <tr>\n      <th>2373</th>\n      <td>0.930</td>\n      <td>0.452811</td>\n      <td>0.639959</td>\n      <td>0.028281</td>\n      <td>0.746</td>\n      <td>0.0</td>\n      <td>0.000000</td>\n      <td>0.636364</td>\n      <td>0.4240</td>\n      <td>0.887416</td>\n      <td>1.0</td>\n      <td>0.161765</td>\n      <td>0.029158</td>\n      <td>0.494664</td>\n      <td>False</td>\n    </tr>\n    <tr>\n      <th>...</th>\n      <td>...</td>\n      <td>...</td>\n      <td>...</td>\n      <td>...</td>\n      <td>...</td>\n      <td>...</td>\n      <td>...</td>\n      <td>...</td>\n      <td>...</td>\n      <td>...</td>\n      <td>...</td>\n      <td>...</td>\n      <td>...</td>\n      <td>...</td>\n      <td>...</td>\n    </tr>\n    <tr>\n      <th>1748</th>\n      <td>0.334</td>\n      <td>0.006888</td>\n      <td>0.578093</td>\n      <td>0.038195</td>\n      <td>0.733</td>\n      <td>0.0</td>\n      <td>0.000131</td>\n      <td>0.181818</td>\n      <td>0.2100</td>\n      <td>0.858872</td>\n      <td>1.0</td>\n      <td>0.338235</td>\n      <td>0.032211</td>\n      <td>0.499639</td>\n      <td>False</td>\n    </tr>\n    <tr>\n      <th>3312</th>\n      <td>0.823</td>\n      <td>0.323293</td>\n      <td>0.921907</td>\n      <td>0.026181</td>\n      <td>0.541</td>\n      <td>1.0</td>\n      <td>0.000000</td>\n      <td>0.727273</td>\n      <td>0.0942</td>\n      <td>0.871200</td>\n      <td>1.0</td>\n      <td>0.544118</td>\n      <td>0.523158</td>\n      <td>0.613842</td>\n      <td>False</td>\n    </tr>\n    <tr>\n      <th>7285</th>\n      <td>0.352</td>\n      <td>0.002078</td>\n      <td>0.855984</td>\n      <td>0.035978</td>\n      <td>0.682</td>\n      <td>0.0</td>\n      <td>0.797000</td>\n      <td>0.181818</td>\n      <td>0.1130</td>\n      <td>0.820454</td>\n      <td>1.0</td>\n      <td>0.397059</td>\n      <td>0.047684</td>\n      <td>0.454296</td>\n      <td>False</td>\n    </tr>\n    <tr>\n      <th>6848</th>\n      <td>0.477</td>\n      <td>0.133534</td>\n      <td>0.759635</td>\n      <td>0.065252</td>\n      <td>0.712</td>\n      <td>0.0</td>\n      <td>0.001500</td>\n      <td>0.818182</td>\n      <td>0.4260</td>\n      <td>0.846445</td>\n      <td>0.0</td>\n      <td>0.323529</td>\n      <td>0.043158</td>\n      <td>0.500016</td>\n      <td>False</td>\n    </tr>\n    <tr>\n      <th>28373</th>\n      <td>0.884</td>\n      <td>0.382530</td>\n      <td>0.806288</td>\n      <td>0.044228</td>\n      <td>0.731</td>\n      <td>0.0</td>\n      <td>0.001630</td>\n      <td>0.818182</td>\n      <td>0.0548</td>\n      <td>0.877381</td>\n      <td>1.0</td>\n      <td>0.338235</td>\n      <td>0.055684</td>\n      <td>0.436899</td>\n      <td>False</td>\n    </tr>\n  </tbody>\n</table>\n<p>2052 rows × 15 columns</p>\n</div>"
     },
     "metadata": {},
     "execution_count": 5
    }
   ],
   "source": [
    "negative_balanced = negative_shuffle[:positive.shape[0]]\n",
    "negative_balanced"
   ]
  },
  {
   "cell_type": "code",
   "execution_count": 6,
   "metadata": {},
   "outputs": [
    {
     "output_type": "execute_result",
     "data": {
      "text/plain": [
       "       valence  acousticness  danceability  duration_ms  energy  explicit  \\\n",
       "30708    0.676      0.103414      0.631846     0.033686   0.962       0.0   \n",
       "30709    0.586      0.111446      0.812373     0.055162   0.682       0.0   \n",
       "30710    0.713      0.002620      0.673428     0.032216   0.561       1.0   \n",
       "30711    0.345      0.039960      0.751521     0.035634   0.575       0.0   \n",
       "30712    0.463      0.046787      0.752535     0.035474   0.882       0.0   \n",
       "...        ...           ...           ...          ...     ...       ...   \n",
       "1748     0.334      0.006888      0.578093     0.038195   0.733       0.0   \n",
       "3312     0.823      0.323293      0.921907     0.026181   0.541       1.0   \n",
       "7285     0.352      0.002078      0.855984     0.035978   0.682       0.0   \n",
       "6848     0.477      0.133534      0.759635     0.065252   0.712       0.0   \n",
       "28373    0.884      0.382530      0.806288     0.044228   0.731       0.0   \n",
       "\n",
       "       instrumentalness       key  liveness  loudness  mode  popularity  \\\n",
       "30708          0.000174  0.363636    0.2640  0.933331   0.0    0.544118   \n",
       "30709          0.000016  0.090909    0.1090  0.879609   0.0    0.485294   \n",
       "30710          0.000000  0.545455    0.0764  0.861523   1.0    0.661765   \n",
       "30711          0.127000  0.909091    0.0853  0.887790   0.0    0.205882   \n",
       "30712          0.000000  0.636364    0.2060  0.929330   1.0    0.661765   \n",
       "...                 ...       ...       ...       ...   ...         ...   \n",
       "1748           0.000131  0.181818    0.2100  0.858872   1.0    0.338235   \n",
       "3312           0.000000  0.727273    0.0942  0.871200   1.0    0.544118   \n",
       "7285           0.797000  0.181818    0.1130  0.820454   1.0    0.397059   \n",
       "6848           0.001500  0.818182    0.4260  0.846445   0.0    0.323529   \n",
       "28373          0.001630  0.818182    0.0548  0.877381   1.0    0.338235   \n",
       "\n",
       "       speechiness     tempo  award  \n",
       "30708     0.094211  0.681343   True  \n",
       "30709     0.236842  0.563156   True  \n",
       "30710     0.052105  0.681934   True  \n",
       "30711     0.058421  0.427044   True  \n",
       "30712     0.123158  0.463610   True  \n",
       "...            ...       ...    ...  \n",
       "1748      0.032211  0.499639  False  \n",
       "3312      0.523158  0.613842  False  \n",
       "7285      0.047684  0.454296  False  \n",
       "6848      0.043158  0.500016  False  \n",
       "28373     0.055684  0.436899  False  \n",
       "\n",
       "[4104 rows x 15 columns]"
      ],
      "text/html": "<div>\n<style scoped>\n    .dataframe tbody tr th:only-of-type {\n        vertical-align: middle;\n    }\n\n    .dataframe tbody tr th {\n        vertical-align: top;\n    }\n\n    .dataframe thead th {\n        text-align: right;\n    }\n</style>\n<table border=\"1\" class=\"dataframe\">\n  <thead>\n    <tr style=\"text-align: right;\">\n      <th></th>\n      <th>valence</th>\n      <th>acousticness</th>\n      <th>danceability</th>\n      <th>duration_ms</th>\n      <th>energy</th>\n      <th>explicit</th>\n      <th>instrumentalness</th>\n      <th>key</th>\n      <th>liveness</th>\n      <th>loudness</th>\n      <th>mode</th>\n      <th>popularity</th>\n      <th>speechiness</th>\n      <th>tempo</th>\n      <th>award</th>\n    </tr>\n  </thead>\n  <tbody>\n    <tr>\n      <th>30708</th>\n      <td>0.676</td>\n      <td>0.103414</td>\n      <td>0.631846</td>\n      <td>0.033686</td>\n      <td>0.962</td>\n      <td>0.0</td>\n      <td>0.000174</td>\n      <td>0.363636</td>\n      <td>0.2640</td>\n      <td>0.933331</td>\n      <td>0.0</td>\n      <td>0.544118</td>\n      <td>0.094211</td>\n      <td>0.681343</td>\n      <td>True</td>\n    </tr>\n    <tr>\n      <th>30709</th>\n      <td>0.586</td>\n      <td>0.111446</td>\n      <td>0.812373</td>\n      <td>0.055162</td>\n      <td>0.682</td>\n      <td>0.0</td>\n      <td>0.000016</td>\n      <td>0.090909</td>\n      <td>0.1090</td>\n      <td>0.879609</td>\n      <td>0.0</td>\n      <td>0.485294</td>\n      <td>0.236842</td>\n      <td>0.563156</td>\n      <td>True</td>\n    </tr>\n    <tr>\n      <th>30710</th>\n      <td>0.713</td>\n      <td>0.002620</td>\n      <td>0.673428</td>\n      <td>0.032216</td>\n      <td>0.561</td>\n      <td>1.0</td>\n      <td>0.000000</td>\n      <td>0.545455</td>\n      <td>0.0764</td>\n      <td>0.861523</td>\n      <td>1.0</td>\n      <td>0.661765</td>\n      <td>0.052105</td>\n      <td>0.681934</td>\n      <td>True</td>\n    </tr>\n    <tr>\n      <th>30711</th>\n      <td>0.345</td>\n      <td>0.039960</td>\n      <td>0.751521</td>\n      <td>0.035634</td>\n      <td>0.575</td>\n      <td>0.0</td>\n      <td>0.127000</td>\n      <td>0.909091</td>\n      <td>0.0853</td>\n      <td>0.887790</td>\n      <td>0.0</td>\n      <td>0.205882</td>\n      <td>0.058421</td>\n      <td>0.427044</td>\n      <td>True</td>\n    </tr>\n    <tr>\n      <th>30712</th>\n      <td>0.463</td>\n      <td>0.046787</td>\n      <td>0.752535</td>\n      <td>0.035474</td>\n      <td>0.882</td>\n      <td>0.0</td>\n      <td>0.000000</td>\n      <td>0.636364</td>\n      <td>0.2060</td>\n      <td>0.929330</td>\n      <td>1.0</td>\n      <td>0.661765</td>\n      <td>0.123158</td>\n      <td>0.463610</td>\n      <td>True</td>\n    </tr>\n    <tr>\n      <th>...</th>\n      <td>...</td>\n      <td>...</td>\n      <td>...</td>\n      <td>...</td>\n      <td>...</td>\n      <td>...</td>\n      <td>...</td>\n      <td>...</td>\n      <td>...</td>\n      <td>...</td>\n      <td>...</td>\n      <td>...</td>\n      <td>...</td>\n      <td>...</td>\n      <td>...</td>\n    </tr>\n    <tr>\n      <th>1748</th>\n      <td>0.334</td>\n      <td>0.006888</td>\n      <td>0.578093</td>\n      <td>0.038195</td>\n      <td>0.733</td>\n      <td>0.0</td>\n      <td>0.000131</td>\n      <td>0.181818</td>\n      <td>0.2100</td>\n      <td>0.858872</td>\n      <td>1.0</td>\n      <td>0.338235</td>\n      <td>0.032211</td>\n      <td>0.499639</td>\n      <td>False</td>\n    </tr>\n    <tr>\n      <th>3312</th>\n      <td>0.823</td>\n      <td>0.323293</td>\n      <td>0.921907</td>\n      <td>0.026181</td>\n      <td>0.541</td>\n      <td>1.0</td>\n      <td>0.000000</td>\n      <td>0.727273</td>\n      <td>0.0942</td>\n      <td>0.871200</td>\n      <td>1.0</td>\n      <td>0.544118</td>\n      <td>0.523158</td>\n      <td>0.613842</td>\n      <td>False</td>\n    </tr>\n    <tr>\n      <th>7285</th>\n      <td>0.352</td>\n      <td>0.002078</td>\n      <td>0.855984</td>\n      <td>0.035978</td>\n      <td>0.682</td>\n      <td>0.0</td>\n      <td>0.797000</td>\n      <td>0.181818</td>\n      <td>0.1130</td>\n      <td>0.820454</td>\n      <td>1.0</td>\n      <td>0.397059</td>\n      <td>0.047684</td>\n      <td>0.454296</td>\n      <td>False</td>\n    </tr>\n    <tr>\n      <th>6848</th>\n      <td>0.477</td>\n      <td>0.133534</td>\n      <td>0.759635</td>\n      <td>0.065252</td>\n      <td>0.712</td>\n      <td>0.0</td>\n      <td>0.001500</td>\n      <td>0.818182</td>\n      <td>0.4260</td>\n      <td>0.846445</td>\n      <td>0.0</td>\n      <td>0.323529</td>\n      <td>0.043158</td>\n      <td>0.500016</td>\n      <td>False</td>\n    </tr>\n    <tr>\n      <th>28373</th>\n      <td>0.884</td>\n      <td>0.382530</td>\n      <td>0.806288</td>\n      <td>0.044228</td>\n      <td>0.731</td>\n      <td>0.0</td>\n      <td>0.001630</td>\n      <td>0.818182</td>\n      <td>0.0548</td>\n      <td>0.877381</td>\n      <td>1.0</td>\n      <td>0.338235</td>\n      <td>0.055684</td>\n      <td>0.436899</td>\n      <td>False</td>\n    </tr>\n  </tbody>\n</table>\n<p>4104 rows × 15 columns</p>\n</div>"
     },
     "metadata": {},
     "execution_count": 6
    }
   ],
   "source": [
    "df_balanced = pd.concat([positive, negative_balanced])\n",
    "df_balanced"
   ]
  },
  {
   "cell_type": "code",
   "execution_count": 7,
   "metadata": {},
   "outputs": [
    {
     "output_type": "execute_result",
     "data": {
      "text/plain": [
       "array([0.73965937, 0.8053528 , 0.76885645, 0.79562044, 0.74878049,\n",
       "       0.80487805, 0.76829268, 0.75853659, 0.77073171, 0.7804878 ])"
      ]
     },
     "metadata": {},
     "execution_count": 7
    }
   ],
   "source": [
    "from sklearn import metrics\n",
    "from sklearn.model_selection import cross_val_score\n",
    "from sklearn import svm\n",
    "\n",
    "X = df_balanced.drop(columns=['award'])\n",
    "y = df_balanced['award']\n",
    "\n",
    "clf = svm.SVC(kernel='linear', C=3)\n",
    "scores = cross_val_score(clf, X, y, cv=10, scoring='accuracy')\n",
    "scores"
   ]
  },
  {
   "cell_type": "code",
   "execution_count": 8,
   "metadata": {},
   "outputs": [
    {
     "output_type": "execute_result",
     "data": {
      "text/plain": [
       "SVC(C=3, kernel='linear')"
      ]
     },
     "metadata": {},
     "execution_count": 8
    }
   ],
   "source": [
    "clf.fit(X, y)"
   ]
  },
  {
   "cell_type": "code",
   "execution_count": 9,
   "metadata": {},
   "outputs": [
    {
     "output_type": "execute_result",
     "data": {
      "text/plain": [
       "0.743823283082077"
      ]
     },
     "metadata": {},
     "execution_count": 9
    }
   ],
   "source": [
    "from sklearn.metrics import classification_report\n",
    "\n",
    "X_neg = negative_not_training.drop(columns=['award'])\n",
    "y_neg = [clf.predict([x]) for x in X_neg.values]\n",
    "y_pred = [y[0] for y in y_neg]\n",
    "1 - sum(y_pred)/X_neg.shape[0]"
   ]
  }
 ],
 "metadata": {
  "kernelspec": {
   "display_name": "Python 3",
   "language": "python",
   "name": "python3"
  },
  "language_info": {
   "codemirror_mode": {
    "name": "ipython",
    "version": 2
   },
   "file_extension": ".py",
   "mimetype": "text/x-python",
   "name": "python",
   "nbconvert_exporter": "python",
   "pygments_lexer": "ipython2",
   "version": "3.8.6-final"
  }
 },
 "nbformat": 4,
 "nbformat_minor": 0
}